{
 "cells": [
  {
   "cell_type": "markdown",
   "metadata": {},
   "source": [
    "# Ejercicio: Uso de funciones en Python"
   ]
  },
  {
   "cell_type": "code",
   "execution_count": null,
   "metadata": {},
   "outputs": [],
   "source": [
    "def generar_reporte(tanque_principal,tanque_externo,tanque_de_hidrogeno):\n",
    "    total_promedio = (tanque_principal + tanque_externo + tanque_de_hidrogeno) / 3\n",
    "    return f\"\"\"Reporte de combustible:\n",
    "    Total promedio: {total_promedio}%\n",
    "    Tanque principal: {tanque_principal}%\n",
    "    Tanque externo: {tanque_externo}%\n",
    "    Tanque de Hidrogeno: {tanque_de_hidrogeno}% \n",
    "    \"\"\"\n",
    "print(generar_reporte(80, 70, 85))\n",
    "\n",
    "\n",
    "def promedio(values):\n",
    "    total = sum(values)\n",
    "    number_de_items = len(values)\n",
    "    return total / number_de_items\n",
    "\n",
    "promedio([80, 85, 81]) \n",
    "\n",
    "def generar_reporte(tanque_principal,tanque_externo,tanque_de_hidrogeno):\n",
    "    return f\"\"\"Reporte de combustible:\n",
    "    Total promedio: {promedio([tanque_principal,tanque_externo,tanque_de_hidrogeno])}%\n",
    "    Tanque principal: {tanque_principal}%\n",
    "    Tanque externo: {tanque_externo}%\n",
    "    Tanque de Hidrogeno: {tanque_de_hidrogeno}% \n",
    "    \"\"\"\n",
    "\n",
    "print(generar_reporte(88, 76, 70))"
   ]
  },
  {
   "cell_type": "markdown",
   "metadata": {},
   "source": [
    "# Ejercicio 2: Trabajo con argumentos de palabra clave"
   ]
  },
  {
   "cell_type": "code",
   "execution_count": 6,
   "metadata": {},
   "outputs": [
    {
     "name": "stdout",
     "output_type": "stream",
     "text": [
      "\n",
      "    Mision hacia Marte\n",
      "    Tiempo total de vuelo: 65 minutes\n",
      "    Total de combustible restante: 500000 gallons\n",
      "    \n",
      "\n",
      "    Mision hacia Marte\n",
      "    Tiempo total de vuelo: 76 minutes\n",
      "    Total de combustible restante: 500000\n",
      "    \n",
      "\n",
      "    Mision hacia Marte\n",
      "    Tiempo total de vuelo: 74 minutes\n",
      "    Total de combustible restante: 500000\n",
      "    main tanque --> 300000 galones restantes\n",
      "external tanque --> 200000 galones restantes\n",
      "\n"
     ]
    }
   ],
   "source": [
    "def mision_reporte(pre_tiempo_lanzamiento, tiempo_vuelo, destino,\n",
    "tanque_externo, tanque_principal):\n",
    "    return f\"\"\"\n",
    "    Mision hacia {destino}\n",
    "    Tiempo total de vuelo: {pre_tiempo_lanzamiento + tiempo_vuelo} minutes\n",
    "    Total de combustible restante: {tanque_externo + tanque_principal} gallons\n",
    "    \"\"\"\n",
    "\n",
    "print(mision_reporte(14, 51, \"Marte\", 200000, 300000))\n",
    "\n",
    "def mision_reporte(destino, *minutos, **combustible_de_reserva):\n",
    "    return f\"\"\"\n",
    "    Mision hacia {destino}\n",
    "    Tiempo total de vuelo: {sum(minutos)} minutes\n",
    "    Total de combustible restante: {sum(combustible_de_reserva.values())}\n",
    "    \"\"\"\n",
    "print(mision_reporte(\"Marte\", 10, 15, 51, main=300000, external=200000))\n",
    "\n",
    "\n",
    "def mision_reporte(destino, *minutos, **combustible_de_reserva):\n",
    "    reporte_principal = f\"\"\"\n",
    "    Mision hacia {destino}\n",
    "    Tiempo total de vuelo: {sum(minutos)} minutes\n",
    "    Total de combustible restante: {sum(combustible_de_reserva.values())}\n",
    "    \"\"\"\n",
    "    for nombre_tanque, galones in combustible_de_reserva.items():\n",
    "        reporte_principal += f\"{nombre_tanque} tanque --> {galones} galones restantes\\n\"\n",
    "    return reporte_principal\n",
    "\n",
    "print(mision_reporte(\"Marte\", 8, 11, 55, main=300000, external=200000))\n"
   ]
  }
 ],
 "metadata": {
  "interpreter": {
   "hash": "f471bfd7021135b54a30dc1898d8b8004fa6261c019ff9b671c5537b2bd018c0"
  },
  "kernelspec": {
   "display_name": "Python 3.10.2 64-bit",
   "language": "python",
   "name": "python3"
  },
  "language_info": {
   "codemirror_mode": {
    "name": "ipython",
    "version": 3
   },
   "file_extension": ".py",
   "mimetype": "text/x-python",
   "name": "python",
   "nbconvert_exporter": "python",
   "pygments_lexer": "ipython3",
   "version": "3.10.2"
  },
  "orig_nbformat": 4
 },
 "nbformat": 4,
 "nbformat_minor": 2
}
